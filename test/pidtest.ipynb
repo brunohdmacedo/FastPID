{
 "cells": [
  {
   "cell_type": "markdown",
   "id": "aa3ef033-63ff-4c80-99cd-8f575b0509ba",
   "metadata": {},
   "source": [
    "# Testing PIDs\n",
    "\n",
    "This notebook is for visual debugging of PID controllers. The PID controllers are built into Python libraries using a simple emulation layer for Arduino. The emulation layer can be found in the `emulation/` directory. Since PID controllers don't touch hardware it's really easy to compile them. "
   ]
  },
  {
   "cell_type": "code",
   "execution_count": 1,
   "id": "74926301-5e15-435a-820b-b4b8fb261547",
   "metadata": {
    "tags": []
   },
   "outputs": [
    {
     "name": "stdout",
     "output_type": "stream",
     "text": [
      "CFLAGS=\"-std=c++11 -DARDUINO=100 -I autopid_lib -Iemulation\" python3 autopid_builder.py \n"
     ]
    },
    {
     "name": "stdout",
     "output_type": "stream",
     "text": [
      "/home/maximus/Arduino/libs/FastPID/test/autopid_builder.py:3: DeprecationWarning: The distutils package is deprecated and slated for removal in Python 3.12. Use setuptools or check PEP 632 for potential alternatives\n",
      "  import distutils.sysconfig\n",
      "/home/maximus/Arduino/libs/FastPID/test/autopid_builder.py:3: DeprecationWarning: The distutils.sysconfig module is deprecated, use sysconfig instead\n",
      "  import distutils.sysconfig\n",
      "running install\n",
      "running build\n",
      "running build_ext\n",
      "running install_lib\n",
      "running install_egg_info\n",
      "Removing ./AutoPID-1.0.egg-info\n",
      "Writing ./AutoPID-1.0.egg-info\n"
     ]
    }
   ],
   "source": [
    "!make"
   ]
  },
  {
   "cell_type": "markdown",
   "id": "b4bd814f-c2e7-472a-8280-414808675788",
   "metadata": {},
   "source": [
    "Once built the four PIDs that can be compared are importable:\n",
    "\n",
    "| Name | Notes | URL |\n",
    "| --- | --- | --- | \n",
    "| `FastPID` | This implementation | https://github.com/mike-matera/FastPID | \n",
    "| `ArduinoPID` | The *gold standard* for Arduino PID controllers, uses `float` math.  | https://github.com/br3ttb/Arduino-PID-Library | \n",
    "| `AutoPID` | A PID library for Arduino has some problems. | https://github.com/r-downing/AutoPID | \n",
    "| `refpid` | A reference PID implementation written in Python | | \n"
   ]
  },
  {
   "cell_type": "code",
   "execution_count": 2,
   "id": "b21d344b-f28c-445a-8032-50509a2f6166",
   "metadata": {
    "tags": []
   },
   "outputs": [],
   "source": [
    "import numpy as np\n",
    "import matplotlib.pyplot as plt\n",
    "\n",
    "import FastPID\n",
    "import ArduinoPID\n",
    "import AutoPID\n",
    "import refpid\n",
    "\n",
    "from ipywidgets import interact"
   ]
  },
  {
   "cell_type": "markdown",
   "id": "8e79b3ae-feba-4b38-8ae2-3fc47393dee6",
   "metadata": {},
   "source": [
    "## Test Infrastructure \n",
    "\n",
    "This diagram of a PID controller is from [Wikipedia](https://en.wikipedia.org/wiki/PID_controller). It shows a system diagram. This document refers to parts of the system using the names in the diagram.\n",
    "\n",
    "![](https://upload.wikimedia.org/wikipedia/commons/thumb/4/43/PID_en.svg/600px-PID_en.svg.png?20160622101044)\n",
    "\n",
    "The next cell implements a discreet plant process. The process is a \"leaky bucket\". It's value tends toward zero based on it's sole parameter. "
   ]
  },
  {
   "cell_type": "code",
   "execution_count": 3,
   "id": "5f492a42-c699-48ee-b671-fade5c325318",
   "metadata": {
    "tags": []
   },
   "outputs": [],
   "source": [
    "class plant_process:\n",
    "    def __init__(self, alpha):\n",
    "        self.value = 0 \n",
    "        self.alpha = alpha\n",
    "\n",
    "    def __call__(self, output):\n",
    "        self.value -= (self.value * self.alpha)\n",
    "        self.value += output \n",
    "        return round(self.value)"
   ]
  },
  {
   "cell_type": "markdown",
   "id": "eae5d7b7-b1d1-4baa-a291-df0b1228a956",
   "metadata": {},
   "source": [
    "The next cell implements a generator that takes a `pid` implementation, a generator object for $r(t)$ and a function (or callable) for $y(t)$ as input. The function generates tuples of ($u(t)$, $y(t)$)."
   ]
  },
  {
   "cell_type": "code",
   "execution_count": 4,
   "id": "926cc963-f562-49ab-80bc-b327b1dd15c9",
   "metadata": {
    "tags": []
   },
   "outputs": [],
   "source": [
    "def simulate(pid, setpoint, plant):\n",
    "    output = 0\n",
    "    for sp in setpoint:\n",
    "        feedback = plant(output)\n",
    "        output = pid.step(sp, feedback)\n",
    "        yield output, feedback"
   ]
  },
  {
   "cell_type": "markdown",
   "id": "58a98989-385a-4ba2-ab04-0035838f0d5a",
   "metadata": {},
   "source": [
    "## Performance Against the Reference\n",
    "\n",
    "This code tests a selected controller against the reference controller. "
   ]
  },
  {
   "cell_type": "code",
   "execution_count": 5,
   "id": "c2651f45-a5b8-4923-9159-6ae9218e2b29",
   "metadata": {
    "tags": []
   },
   "outputs": [
    {
     "data": {
      "application/vnd.jupyter.widget-view+json": {
       "model_id": "e69f9da0eb074ec695254b2fac5b7ac1",
       "version_major": 2,
       "version_minor": 0
      },
      "text/plain": [
       "interactive(children=(Dropdown(description='obits', options=(16, 8, 1), value=16), Checkbox(value=True, descri…"
      ]
     },
     "metadata": {},
     "output_type": "display_data"
    }
   ],
   "source": [
    "@interact(p=(0,1,0.01), i=(0,1,0.01), d=(0,1,0.01), obits=[16,8,1], osign=True, n=(10,200,10), pid=['FastPID', 'ArduinoPID', 'AutoPID'])\n",
    "def do_reference_fun(obits, osign, pid, p, i, d, n,):\n",
    "\n",
    "    dut = eval(pid)\n",
    "    dut.configure(p, i, d, obits, osign)\n",
    "    ref = refpid.refpid(p, i, d, obits, osign)\n",
    "\n",
    "    setpoint = [0, 0] + ([1000] * (n-2)) + ([-1000] * (n-2))\n",
    "\n",
    "    reference = np.fromiter(simulate(ref, setpoint, plant_process(0.2)), dtype=np.dtype((int, 2)))\n",
    "    output = np.fromiter(simulate(dut, setpoint, plant_process(0.2)), dtype=np.dtype((int, 2)))\n",
    "\n",
    "    setline = plt.plot(setpoint, '', label='Setpoint')\n",
    "    refline = plt.plot(reference[:,1], '--', label='Reference')\n",
    "    outline = plt.plot(output[:,1], '', label=pid)\n",
    "    plt.legend(['Setpoint r(t)', 'Reference y(t)', f\"{pid} y(t)\"])\n",
    "    plt.xlabel('Time (Steps)')\n",
    "    plt.ylabel('Codes')\n",
    "    plt.title('{} vs. Reference (p={} i={} d={})'.format(pid, p, i, d))\n",
    "    plt.show()"
   ]
  },
  {
   "cell_type": "markdown",
   "id": "d54e208d-ba52-4edb-b856-7d5e0ffb7ce4",
   "metadata": {
    "tags": []
   },
   "source": [
    "## Testing the Parameter Domain\n",
    "\n",
    "In FastPID the parameters are scaled from floats to integers to make the math faster. Configuring FastPID returns a boolean to indicate if there was an error that would cause the operation of the controller to fail. Because the logic is complicated, the next cell demonstrates the domain of the parameters based on search."
   ]
  },
  {
   "cell_type": "code",
   "execution_count": 6,
   "id": "0cd37f63-b895-45e4-9e0e-4164629c483c",
   "metadata": {
    "tags": []
   },
   "outputs": [
    {
     "name": "stdout",
     "output_type": "stream",
     "text": [
      "The largest valid parameter: 256\n",
      "The smallest valid parameter: 0.00390625\n"
     ]
    }
   ],
   "source": [
    "\n",
    "kp = 1\n",
    "while FastPID.configure(kp-1,0,0,16,False) :\n",
    "    okay = kp\n",
    "    kp *= 2\n",
    "print (f'The largest valid parameter: {okay}')\n",
    "\n",
    "kp = 1\n",
    "while FastPID.configure(kp,0,0,16,False) :\n",
    "    okay = kp\n",
    "    kp /= 2\n",
    "print (f'The smallest valid parameter: {okay}')\n"
   ]
  },
  {
   "cell_type": "markdown",
   "id": "a50eba20-b088-4240-86cd-13ed05bc269e",
   "metadata": {},
   "source": [
    "## AutoPID Has a Broken `D` Parameter \n",
    "\n",
    "The `AutoPID` doesn't seem to respond to changes in `D`."
   ]
  },
  {
   "cell_type": "code",
   "execution_count": 7,
   "id": "0fa6cdff-4742-4444-ae64-41fc9d668cd3",
   "metadata": {
    "tags": []
   },
   "outputs": [
    {
     "data": {
      "image/png": "[encoded data removed]",
      "text/plain": [
       "<Figure size 640x480 with 1 Axes>"
      ]
     },
     "metadata": {},
     "output_type": "display_data"
    }
   ],
   "source": [
    "n = 50\n",
    "obits = 16\n",
    "osign = True \n",
    "p = 0.1\n",
    "i = 0.2\n",
    "d = 0.0\n",
    "\n",
    "setpoint = [0, 0] + ([1000] * (n-2)) + ([-1000] * (n-2))\n",
    "legend = [\"Setpoint r(t)\"]\n",
    "plt.plot(setpoint, '', label='Setpoint')\n",
    "\n",
    "for d in range(0,5):\n",
    "    d /= 10\n",
    "    AutoPID.configure(p, i, d, obits, osign)\n",
    "    output = np.fromiter(simulate(AutoPID, setpoint, plant_process(0.2)), dtype=np.dtype((int, 2)))\n",
    "    plt.plot(output[:,1], '', label=f'd={d}')\n",
    "    legend += [f\"d={d}\"]\n",
    "    \n",
    "plt.legend(legend)\n",
    "plt.xlabel('Time (Steps)')\n",
    "plt.ylabel('Codes')\n",
    "plt.title(f'AutoPID over D (p={p} i={i})')\n",
    "\n",
    "plt.show()"
   ]
  }
 ],
 "metadata": {
  "kernelspec": {
   "display_name": "Python 3 (ipykernel)",
   "language": "python",
   "name": "python3"
  },
  "language_info": {
   "codemirror_mode": {
    "name": "ipython",
    "version": 3
   },
   "file_extension": ".py",
   "mimetype": "text/x-python",
   "name": "python",
   "nbconvert_exporter": "python",
   "pygments_lexer": "ipython3",
   "version": "3.10.12"
  }
 },
 "nbformat": 4,
 "nbformat_minor": 5
}
